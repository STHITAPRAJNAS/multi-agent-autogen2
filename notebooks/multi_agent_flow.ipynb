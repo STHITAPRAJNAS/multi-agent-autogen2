{
 "cells": [
  {
   "cell_type": "markdown",
   "id": "fa663d8e",
   "metadata": {},
   "source": [
    "Multi-Agent Flow Demo\n",
    "This script demonstrates how to set up and run a multi-agent conversation flow using AutoGen."
   ]
  },
  {
   "cell_type": "code",
   "execution_count": null,
   "id": "e8d2b538",
   "metadata": {},
   "outputs": [],
   "source": [
    "import autogen\n",
    "from autogen import AssistantAgent, UserProxyAgent, GroupChat, GroupChatManager"
   ]
  },
  {
   "cell_type": "code",
   "execution_count": null,
   "id": "8d5b6dd8",
   "metadata": {},
   "outputs": [],
   "source": [
    "# Configure the LLM\n",
    "config_list = [\n",
    "    {\n",
    "        \"model\": \"gpt-4\",\n",
    "        \"api_key\": \"YOUR_API_KEY\",  # Replace with your actual API key\n",
    "    }\n",
    "]"
   ]
  },
  {
   "cell_type": "code",
   "execution_count": null,
   "id": "a31b4ba5",
   "metadata": {},
   "outputs": [],
   "source": [
    "# Create the agents\n",
    "assistant = AssistantAgent(\n",
    "    name=\"assistant\",\n",
    "    llm_config={\"config_list\": config_list},\n",
    ")"
   ]
  },
  {
   "cell_type": "code",
   "execution_count": null,
   "id": "c25233a6",
   "metadata": {},
   "outputs": [],
   "source": [
    "user_proxy = UserProxyAgent(\n",
    "    name=\"user_proxy\",\n",
    "    human_input_mode=\"NEVER\",\n",
    "    max_consecutive_auto_reply=10,\n",
    "    code_execution_config={\n",
    "        \"work_dir\": \"workspace\",\n",
    "        \"use_docker\": False,\n",
    "    },\n",
    ")"
   ]
  },
  {
   "cell_type": "code",
   "execution_count": null,
   "id": "27219a72",
   "metadata": {},
   "outputs": [],
   "source": [
    "# Initialize the chat\n",
    "chat = GroupChat(\n",
    "    agents=[user_proxy, assistant],\n",
    "    messages=[],\n",
    "    max_round=50\n",
    ")"
   ]
  },
  {
   "cell_type": "code",
   "execution_count": null,
   "id": "ad38b5db",
   "metadata": {},
   "outputs": [],
   "source": [
    "manager = GroupChatManager(groupchat=chat, llm_config={\"config_list\": config_list})"
   ]
  },
  {
   "cell_type": "code",
   "execution_count": null,
   "id": "3acac1d7",
   "metadata": {},
   "outputs": [],
   "source": [
    "# Start a conversation\n",
    "user_proxy.initiate_chat(\n",
    "    manager,\n",
    "    message=\"Let's discuss how to build a simple web application using Python and Flask.\"\n",
    ")"
   ]
  },
  {
   "cell_type": "markdown",
   "id": "50e3268e",
   "metadata": {},
   "source": [
    "Customizing the Flow\n",
    "You can customize the agents and their behavior by modifying the configuration parameters:\n",
    "- Change the model by updating the config_list\n",
    "- Add more agents to the GroupChat\n",
    "- Modify the human_input_mode to control when human input is required\n",
    "- Adjust the max_consecutive_auto_reply to control the conversation length\n",
    "- Change the code_execution_config to enable Docker or modify the working directory "
   ]
  }
 ],
 "metadata": {
  "jupytext": {
   "cell_metadata_filter": "-all",
   "main_language": "python",
   "notebook_metadata_filter": "-all"
  },
  "language_info": {
   "name": "python"
  }
 },
 "nbformat": 4,
 "nbformat_minor": 5
}
